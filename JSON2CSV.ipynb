{
 "cells": [
  {
   "cell_type": "code",
   "execution_count": 1,
   "id": "df820938-011b-4315-baba-6add0958bf00",
   "metadata": {},
   "outputs": [],
   "source": [
    "import json\n",
    "import csv\n",
    "\n",
    "import time\n",
    "import datetime"
   ]
  },
  {
   "cell_type": "code",
   "execution_count": 2,
   "id": "b3da5c36-d2e2-4787-8540-754cfbb8e879",
   "metadata": {},
   "outputs": [],
   "source": [
    "# Opening JSON file and loading the data\n",
    "# into the variable data\n",
    "with open('akpl_data.json') as json_file:\n",
    "    data = json.load(json_file)\n",
    " \n",
    "    # now we will open a file for writing\n",
    "    data_file = open('akpl_data_file.csv', 'w')\n",
    "\n",
    "    # create the csv writer object\n",
    "    csv_writer = csv.writer(data_file)\n",
    "\n",
    "    # Counter variable used for writing\n",
    "    # headers to the CSV file\n",
    "    count = 0\n",
    "\n",
    "    for emp in data:\n",
    "        # # adding date_timestamp to the csv\n",
    "        # date_string = emp['f_date']\n",
    "        # date_timestamp = time.mktime(datetime.datetime.strptime(date_string, \"%Y-%m-%d\").timetuple())\n",
    "        # emp.update({'date_timestamp': date_timestamp})\n",
    "        \n",
    "        if count == 0:\n",
    "\n",
    "            # Writing headers of CSV file\n",
    "            header = emp.keys()\n",
    "            csv_writer.writerow(header)\n",
    "            count += 1\n",
    "        \n",
    "        # Writing data of CSV file\n",
    "        csv_writer.writerow(emp.values())\n",
    "\n",
    "    data_file.close()"
   ]
  },
  {
   "cell_type": "code",
   "execution_count": null,
   "id": "794b6559-abf9-4f41-9847-8d2aa899fba6",
   "metadata": {},
   "outputs": [],
   "source": []
  }
 ],
 "metadata": {
  "kernelspec": {
   "display_name": "Python 3 (ipykernel)",
   "language": "python",
   "name": "python3"
  },
  "language_info": {
   "codemirror_mode": {
    "name": "ipython",
    "version": 3
   },
   "file_extension": ".py",
   "mimetype": "text/x-python",
   "name": "python",
   "nbconvert_exporter": "python",
   "pygments_lexer": "ipython3",
   "version": "3.10.8"
  }
 },
 "nbformat": 4,
 "nbformat_minor": 5
}
