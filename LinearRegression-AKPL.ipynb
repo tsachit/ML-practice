{
 "cells": [
  {
   "cell_type": "code",
   "execution_count": 1,
   "id": "christian-polish",
   "metadata": {},
   "outputs": [],
   "source": [
    "import pandas as pd\n",
    "import numpy as np\n",
    "from sklearn.linear_model import LinearRegression\n",
    "from sklearn.metrics import mean_squared_error, r2_score\n",
    "from sklearn.model_selection import train_test_split\n",
    "import matplotlib.pyplot as plt\n",
    "\n",
    "import time\n",
    "from datetime import datetime"
   ]
  },
  {
   "cell_type": "code",
   "execution_count": 2,
   "id": "experienced-colonial",
   "metadata": {},
   "outputs": [],
   "source": [
    "df_desc = pd.read_csv('akpl_data_file.csv')"
   ]
  },
  {
   "cell_type": "code",
   "execution_count": 3,
   "id": "c76d8c72-a5b1-4f3b-989f-cdd3702462d8",
   "metadata": {},
   "outputs": [],
   "source": [
    "def ds2timestamp(ds):\n",
    "    return time.mktime(datetime.strptime(ds, \"%Y-%m-%d\").timetuple())"
   ]
  },
  {
   "cell_type": "code",
   "execution_count": 4,
   "id": "88ce09e9-f9a8-4a91-8324-f5bd0d292fc7",
   "metadata": {},
   "outputs": [],
   "source": [
    "def ts2datestring(ts):\n",
    "    return datetime.fromtimestamp(ts).strftime('%Y-%m-%d')"
   ]
  },
  {
   "cell_type": "code",
   "execution_count": 5,
   "id": "08476752-5126-4627-b1ab-9d1a4a04e911",
   "metadata": {},
   "outputs": [
    {
     "data": {
      "text/plain": [
       "array(['2023-03-07', '2023-03-05', '2023-03-02', ..., '2017-04-19',\n",
       "       '2017-04-18', '2017-04-16'], dtype=object)"
      ]
     },
     "execution_count": 5,
     "metadata": {},
     "output_type": "execute_result"
    }
   ],
   "source": [
    "df_desc['f_date'].values"
   ]
  },
  {
   "cell_type": "code",
   "execution_count": 6,
   "id": "b0773e66-898c-40d5-9fae-7b262287daf5",
   "metadata": {},
   "outputs": [],
   "source": [
    "df_desc['ts'] = df_desc['f_date'].apply(ds2timestamp)"
   ]
  },
  {
   "cell_type": "code",
   "execution_count": 7,
   "id": "85074aac-9dfa-4ffe-8f6f-0cd5acebcf04",
   "metadata": {},
   "outputs": [
    {
     "data": {
      "text/html": [
       "<div>\n",
       "<style scoped>\n",
       "    .dataframe tbody tr th:only-of-type {\n",
       "        vertical-align: middle;\n",
       "    }\n",
       "\n",
       "    .dataframe tbody tr th {\n",
       "        vertical-align: top;\n",
       "    }\n",
       "\n",
       "    .dataframe thead th {\n",
       "        text-align: right;\n",
       "    }\n",
       "</style>\n",
       "<table border=\"1\" class=\"dataframe\">\n",
       "  <thead>\n",
       "    <tr style=\"text-align: right;\">\n",
       "      <th></th>\n",
       "      <th>symbol</th>\n",
       "      <th>open</th>\n",
       "      <th>high</th>\n",
       "      <th>low</th>\n",
       "      <th>close</th>\n",
       "      <th>f_date</th>\n",
       "      <th>percent_change</th>\n",
       "      <th>volume</th>\n",
       "      <th>ts</th>\n",
       "    </tr>\n",
       "  </thead>\n",
       "  <tbody>\n",
       "    <tr>\n",
       "      <th>0</th>\n",
       "      <td>AKPL</td>\n",
       "      <td>387.1</td>\n",
       "      <td>395.4</td>\n",
       "      <td>387.0</td>\n",
       "      <td>395.3</td>\n",
       "      <td>2023-03-07</td>\n",
       "      <td>1.358974</td>\n",
       "      <td>37715</td>\n",
       "      <td>1.678126e+09</td>\n",
       "    </tr>\n",
       "    <tr>\n",
       "      <th>1</th>\n",
       "      <td>AKPL</td>\n",
       "      <td>395.0</td>\n",
       "      <td>397.0</td>\n",
       "      <td>390.0</td>\n",
       "      <td>390.0</td>\n",
       "      <td>2023-03-05</td>\n",
       "      <td>-1.015228</td>\n",
       "      <td>32573</td>\n",
       "      <td>1.677954e+09</td>\n",
       "    </tr>\n",
       "    <tr>\n",
       "      <th>2</th>\n",
       "      <td>AKPL</td>\n",
       "      <td>397.0</td>\n",
       "      <td>400.0</td>\n",
       "      <td>393.0</td>\n",
       "      <td>394.0</td>\n",
       "      <td>2023-03-02</td>\n",
       "      <td>-0.755668</td>\n",
       "      <td>46273</td>\n",
       "      <td>1.677694e+09</td>\n",
       "    </tr>\n",
       "    <tr>\n",
       "      <th>3</th>\n",
       "      <td>AKPL</td>\n",
       "      <td>404.9</td>\n",
       "      <td>404.9</td>\n",
       "      <td>395.0</td>\n",
       "      <td>397.0</td>\n",
       "      <td>2023-03-01</td>\n",
       "      <td>-0.501253</td>\n",
       "      <td>32350</td>\n",
       "      <td>1.677608e+09</td>\n",
       "    </tr>\n",
       "    <tr>\n",
       "      <th>4</th>\n",
       "      <td>AKPL</td>\n",
       "      <td>395.0</td>\n",
       "      <td>405.8</td>\n",
       "      <td>395.0</td>\n",
       "      <td>399.0</td>\n",
       "      <td>2023-02-28</td>\n",
       "      <td>0.251256</td>\n",
       "      <td>38734</td>\n",
       "      <td>1.677522e+09</td>\n",
       "    </tr>\n",
       "    <tr>\n",
       "      <th>...</th>\n",
       "      <td>...</td>\n",
       "      <td>...</td>\n",
       "      <td>...</td>\n",
       "      <td>...</td>\n",
       "      <td>...</td>\n",
       "      <td>...</td>\n",
       "      <td>...</td>\n",
       "      <td>...</td>\n",
       "      <td>...</td>\n",
       "    </tr>\n",
       "    <tr>\n",
       "      <th>1336</th>\n",
       "      <td>AKPL</td>\n",
       "      <td>403.0</td>\n",
       "      <td>408.0</td>\n",
       "      <td>385.0</td>\n",
       "      <td>402.0</td>\n",
       "      <td>2017-04-24</td>\n",
       "      <td>-2.190000</td>\n",
       "      <td>53027</td>\n",
       "      <td>1.492971e+09</td>\n",
       "    </tr>\n",
       "    <tr>\n",
       "      <th>1337</th>\n",
       "      <td>AKPL</td>\n",
       "      <td>400.0</td>\n",
       "      <td>432.0</td>\n",
       "      <td>383.0</td>\n",
       "      <td>411.0</td>\n",
       "      <td>2017-04-23</td>\n",
       "      <td>4.330000</td>\n",
       "      <td>99212</td>\n",
       "      <td>1.492885e+09</td>\n",
       "    </tr>\n",
       "    <tr>\n",
       "      <th>1338</th>\n",
       "      <td>AKPL</td>\n",
       "      <td>358.0</td>\n",
       "      <td>393.0</td>\n",
       "      <td>365.0</td>\n",
       "      <td>393.0</td>\n",
       "      <td>2017-04-19</td>\n",
       "      <td>9.780000</td>\n",
       "      <td>10034</td>\n",
       "      <td>1.492539e+09</td>\n",
       "    </tr>\n",
       "    <tr>\n",
       "      <th>1339</th>\n",
       "      <td>AKPL</td>\n",
       "      <td>332.0</td>\n",
       "      <td>358.0</td>\n",
       "      <td>332.0</td>\n",
       "      <td>358.0</td>\n",
       "      <td>2017-04-18</td>\n",
       "      <td>9.820000</td>\n",
       "      <td>31151</td>\n",
       "      <td>1.492453e+09</td>\n",
       "    </tr>\n",
       "    <tr>\n",
       "      <th>1340</th>\n",
       "      <td>AKPL</td>\n",
       "      <td>297.0</td>\n",
       "      <td>326.0</td>\n",
       "      <td>297.0</td>\n",
       "      <td>326.0</td>\n",
       "      <td>2017-04-16</td>\n",
       "      <td>0.000000</td>\n",
       "      <td>9361</td>\n",
       "      <td>1.492280e+09</td>\n",
       "    </tr>\n",
       "  </tbody>\n",
       "</table>\n",
       "<p>1341 rows × 9 columns</p>\n",
       "</div>"
      ],
      "text/plain": [
       "     symbol   open   high    low  close      f_date  percent_change  volume  \\\n",
       "0      AKPL  387.1  395.4  387.0  395.3  2023-03-07        1.358974   37715   \n",
       "1      AKPL  395.0  397.0  390.0  390.0  2023-03-05       -1.015228   32573   \n",
       "2      AKPL  397.0  400.0  393.0  394.0  2023-03-02       -0.755668   46273   \n",
       "3      AKPL  404.9  404.9  395.0  397.0  2023-03-01       -0.501253   32350   \n",
       "4      AKPL  395.0  405.8  395.0  399.0  2023-02-28        0.251256   38734   \n",
       "...     ...    ...    ...    ...    ...         ...             ...     ...   \n",
       "1336   AKPL  403.0  408.0  385.0  402.0  2017-04-24       -2.190000   53027   \n",
       "1337   AKPL  400.0  432.0  383.0  411.0  2017-04-23        4.330000   99212   \n",
       "1338   AKPL  358.0  393.0  365.0  393.0  2017-04-19        9.780000   10034   \n",
       "1339   AKPL  332.0  358.0  332.0  358.0  2017-04-18        9.820000   31151   \n",
       "1340   AKPL  297.0  326.0  297.0  326.0  2017-04-16        0.000000    9361   \n",
       "\n",
       "                ts  \n",
       "0     1.678126e+09  \n",
       "1     1.677954e+09  \n",
       "2     1.677694e+09  \n",
       "3     1.677608e+09  \n",
       "4     1.677522e+09  \n",
       "...            ...  \n",
       "1336  1.492971e+09  \n",
       "1337  1.492885e+09  \n",
       "1338  1.492539e+09  \n",
       "1339  1.492453e+09  \n",
       "1340  1.492280e+09  \n",
       "\n",
       "[1341 rows x 9 columns]"
      ]
     },
     "execution_count": 7,
     "metadata": {},
     "output_type": "execute_result"
    }
   ],
   "source": [
    "df_desc"
   ]
  },
  {
   "cell_type": "code",
   "execution_count": 8,
   "id": "5858520c-da47-46df-ac6a-4770d3626bb7",
   "metadata": {},
   "outputs": [],
   "source": [
    "df = df_desc.iloc[::-1]"
   ]
  },
  {
   "cell_type": "code",
   "execution_count": 9,
   "id": "cfd209b5-f194-46ed-9aa7-5121ca2b8f42",
   "metadata": {},
   "outputs": [
    {
     "data": {
      "text/html": [
       "<div>\n",
       "<style scoped>\n",
       "    .dataframe tbody tr th:only-of-type {\n",
       "        vertical-align: middle;\n",
       "    }\n",
       "\n",
       "    .dataframe tbody tr th {\n",
       "        vertical-align: top;\n",
       "    }\n",
       "\n",
       "    .dataframe thead th {\n",
       "        text-align: right;\n",
       "    }\n",
       "</style>\n",
       "<table border=\"1\" class=\"dataframe\">\n",
       "  <thead>\n",
       "    <tr style=\"text-align: right;\">\n",
       "      <th></th>\n",
       "      <th>symbol</th>\n",
       "      <th>open</th>\n",
       "      <th>high</th>\n",
       "      <th>low</th>\n",
       "      <th>close</th>\n",
       "      <th>f_date</th>\n",
       "      <th>percent_change</th>\n",
       "      <th>volume</th>\n",
       "      <th>ts</th>\n",
       "    </tr>\n",
       "  </thead>\n",
       "  <tbody>\n",
       "    <tr>\n",
       "      <th>1340</th>\n",
       "      <td>AKPL</td>\n",
       "      <td>297.0</td>\n",
       "      <td>326.0</td>\n",
       "      <td>297.0</td>\n",
       "      <td>326.0</td>\n",
       "      <td>2017-04-16</td>\n",
       "      <td>0.000000</td>\n",
       "      <td>9361</td>\n",
       "      <td>1.492280e+09</td>\n",
       "    </tr>\n",
       "    <tr>\n",
       "      <th>1339</th>\n",
       "      <td>AKPL</td>\n",
       "      <td>332.0</td>\n",
       "      <td>358.0</td>\n",
       "      <td>332.0</td>\n",
       "      <td>358.0</td>\n",
       "      <td>2017-04-18</td>\n",
       "      <td>9.820000</td>\n",
       "      <td>31151</td>\n",
       "      <td>1.492453e+09</td>\n",
       "    </tr>\n",
       "    <tr>\n",
       "      <th>1338</th>\n",
       "      <td>AKPL</td>\n",
       "      <td>358.0</td>\n",
       "      <td>393.0</td>\n",
       "      <td>365.0</td>\n",
       "      <td>393.0</td>\n",
       "      <td>2017-04-19</td>\n",
       "      <td>9.780000</td>\n",
       "      <td>10034</td>\n",
       "      <td>1.492539e+09</td>\n",
       "    </tr>\n",
       "    <tr>\n",
       "      <th>1337</th>\n",
       "      <td>AKPL</td>\n",
       "      <td>400.0</td>\n",
       "      <td>432.0</td>\n",
       "      <td>383.0</td>\n",
       "      <td>411.0</td>\n",
       "      <td>2017-04-23</td>\n",
       "      <td>4.330000</td>\n",
       "      <td>99212</td>\n",
       "      <td>1.492885e+09</td>\n",
       "    </tr>\n",
       "    <tr>\n",
       "      <th>1336</th>\n",
       "      <td>AKPL</td>\n",
       "      <td>403.0</td>\n",
       "      <td>408.0</td>\n",
       "      <td>385.0</td>\n",
       "      <td>402.0</td>\n",
       "      <td>2017-04-24</td>\n",
       "      <td>-2.190000</td>\n",
       "      <td>53027</td>\n",
       "      <td>1.492971e+09</td>\n",
       "    </tr>\n",
       "    <tr>\n",
       "      <th>...</th>\n",
       "      <td>...</td>\n",
       "      <td>...</td>\n",
       "      <td>...</td>\n",
       "      <td>...</td>\n",
       "      <td>...</td>\n",
       "      <td>...</td>\n",
       "      <td>...</td>\n",
       "      <td>...</td>\n",
       "      <td>...</td>\n",
       "    </tr>\n",
       "    <tr>\n",
       "      <th>4</th>\n",
       "      <td>AKPL</td>\n",
       "      <td>395.0</td>\n",
       "      <td>405.8</td>\n",
       "      <td>395.0</td>\n",
       "      <td>399.0</td>\n",
       "      <td>2023-02-28</td>\n",
       "      <td>0.251256</td>\n",
       "      <td>38734</td>\n",
       "      <td>1.677522e+09</td>\n",
       "    </tr>\n",
       "    <tr>\n",
       "      <th>3</th>\n",
       "      <td>AKPL</td>\n",
       "      <td>404.9</td>\n",
       "      <td>404.9</td>\n",
       "      <td>395.0</td>\n",
       "      <td>397.0</td>\n",
       "      <td>2023-03-01</td>\n",
       "      <td>-0.501253</td>\n",
       "      <td>32350</td>\n",
       "      <td>1.677608e+09</td>\n",
       "    </tr>\n",
       "    <tr>\n",
       "      <th>2</th>\n",
       "      <td>AKPL</td>\n",
       "      <td>397.0</td>\n",
       "      <td>400.0</td>\n",
       "      <td>393.0</td>\n",
       "      <td>394.0</td>\n",
       "      <td>2023-03-02</td>\n",
       "      <td>-0.755668</td>\n",
       "      <td>46273</td>\n",
       "      <td>1.677694e+09</td>\n",
       "    </tr>\n",
       "    <tr>\n",
       "      <th>1</th>\n",
       "      <td>AKPL</td>\n",
       "      <td>395.0</td>\n",
       "      <td>397.0</td>\n",
       "      <td>390.0</td>\n",
       "      <td>390.0</td>\n",
       "      <td>2023-03-05</td>\n",
       "      <td>-1.015228</td>\n",
       "      <td>32573</td>\n",
       "      <td>1.677954e+09</td>\n",
       "    </tr>\n",
       "    <tr>\n",
       "      <th>0</th>\n",
       "      <td>AKPL</td>\n",
       "      <td>387.1</td>\n",
       "      <td>395.4</td>\n",
       "      <td>387.0</td>\n",
       "      <td>395.3</td>\n",
       "      <td>2023-03-07</td>\n",
       "      <td>1.358974</td>\n",
       "      <td>37715</td>\n",
       "      <td>1.678126e+09</td>\n",
       "    </tr>\n",
       "  </tbody>\n",
       "</table>\n",
       "<p>1341 rows × 9 columns</p>\n",
       "</div>"
      ],
      "text/plain": [
       "     symbol   open   high    low  close      f_date  percent_change  volume  \\\n",
       "1340   AKPL  297.0  326.0  297.0  326.0  2017-04-16        0.000000    9361   \n",
       "1339   AKPL  332.0  358.0  332.0  358.0  2017-04-18        9.820000   31151   \n",
       "1338   AKPL  358.0  393.0  365.0  393.0  2017-04-19        9.780000   10034   \n",
       "1337   AKPL  400.0  432.0  383.0  411.0  2017-04-23        4.330000   99212   \n",
       "1336   AKPL  403.0  408.0  385.0  402.0  2017-04-24       -2.190000   53027   \n",
       "...     ...    ...    ...    ...    ...         ...             ...     ...   \n",
       "4      AKPL  395.0  405.8  395.0  399.0  2023-02-28        0.251256   38734   \n",
       "3      AKPL  404.9  404.9  395.0  397.0  2023-03-01       -0.501253   32350   \n",
       "2      AKPL  397.0  400.0  393.0  394.0  2023-03-02       -0.755668   46273   \n",
       "1      AKPL  395.0  397.0  390.0  390.0  2023-03-05       -1.015228   32573   \n",
       "0      AKPL  387.1  395.4  387.0  395.3  2023-03-07        1.358974   37715   \n",
       "\n",
       "                ts  \n",
       "1340  1.492280e+09  \n",
       "1339  1.492453e+09  \n",
       "1338  1.492539e+09  \n",
       "1337  1.492885e+09  \n",
       "1336  1.492971e+09  \n",
       "...            ...  \n",
       "4     1.677522e+09  \n",
       "3     1.677608e+09  \n",
       "2     1.677694e+09  \n",
       "1     1.677954e+09  \n",
       "0     1.678126e+09  \n",
       "\n",
       "[1341 rows x 9 columns]"
      ]
     },
     "execution_count": 9,
     "metadata": {},
     "output_type": "execute_result"
    }
   ],
   "source": [
    "df"
   ]
  },
  {
   "cell_type": "code",
   "execution_count": 10,
   "id": "reverse-census",
   "metadata": {},
   "outputs": [],
   "source": [
    "X = df[['ts', 'open']].values\n",
    "y = df.iloc[:, 4].values"
   ]
  },
  {
   "cell_type": "code",
   "execution_count": 11,
   "id": "attached-attendance",
   "metadata": {},
   "outputs": [],
   "source": [
    "X_train, X_test, y_train, y_test = train_test_split(X, y, test_size=0.05, random_state=5)"
   ]
  },
  {
   "cell_type": "code",
   "execution_count": 12,
   "id": "944b15b3-f9fc-429e-98e4-d18d548526eb",
   "metadata": {},
   "outputs": [
    {
     "data": {
      "text/html": [
       "<style>#sk-container-id-1 {color: black;background-color: white;}#sk-container-id-1 pre{padding: 0;}#sk-container-id-1 div.sk-toggleable {background-color: white;}#sk-container-id-1 label.sk-toggleable__label {cursor: pointer;display: block;width: 100%;margin-bottom: 0;padding: 0.3em;box-sizing: border-box;text-align: center;}#sk-container-id-1 label.sk-toggleable__label-arrow:before {content: \"▸\";float: left;margin-right: 0.25em;color: #696969;}#sk-container-id-1 label.sk-toggleable__label-arrow:hover:before {color: black;}#sk-container-id-1 div.sk-estimator:hover label.sk-toggleable__label-arrow:before {color: black;}#sk-container-id-1 div.sk-toggleable__content {max-height: 0;max-width: 0;overflow: hidden;text-align: left;background-color: #f0f8ff;}#sk-container-id-1 div.sk-toggleable__content pre {margin: 0.2em;color: black;border-radius: 0.25em;background-color: #f0f8ff;}#sk-container-id-1 input.sk-toggleable__control:checked~div.sk-toggleable__content {max-height: 200px;max-width: 100%;overflow: auto;}#sk-container-id-1 input.sk-toggleable__control:checked~label.sk-toggleable__label-arrow:before {content: \"▾\";}#sk-container-id-1 div.sk-estimator input.sk-toggleable__control:checked~label.sk-toggleable__label {background-color: #d4ebff;}#sk-container-id-1 div.sk-label input.sk-toggleable__control:checked~label.sk-toggleable__label {background-color: #d4ebff;}#sk-container-id-1 input.sk-hidden--visually {border: 0;clip: rect(1px 1px 1px 1px);clip: rect(1px, 1px, 1px, 1px);height: 1px;margin: -1px;overflow: hidden;padding: 0;position: absolute;width: 1px;}#sk-container-id-1 div.sk-estimator {font-family: monospace;background-color: #f0f8ff;border: 1px dotted black;border-radius: 0.25em;box-sizing: border-box;margin-bottom: 0.5em;}#sk-container-id-1 div.sk-estimator:hover {background-color: #d4ebff;}#sk-container-id-1 div.sk-parallel-item::after {content: \"\";width: 100%;border-bottom: 1px solid gray;flex-grow: 1;}#sk-container-id-1 div.sk-label:hover label.sk-toggleable__label {background-color: #d4ebff;}#sk-container-id-1 div.sk-serial::before {content: \"\";position: absolute;border-left: 1px solid gray;box-sizing: border-box;top: 0;bottom: 0;left: 50%;z-index: 0;}#sk-container-id-1 div.sk-serial {display: flex;flex-direction: column;align-items: center;background-color: white;padding-right: 0.2em;padding-left: 0.2em;position: relative;}#sk-container-id-1 div.sk-item {position: relative;z-index: 1;}#sk-container-id-1 div.sk-parallel {display: flex;align-items: stretch;justify-content: center;background-color: white;position: relative;}#sk-container-id-1 div.sk-item::before, #sk-container-id-1 div.sk-parallel-item::before {content: \"\";position: absolute;border-left: 1px solid gray;box-sizing: border-box;top: 0;bottom: 0;left: 50%;z-index: -1;}#sk-container-id-1 div.sk-parallel-item {display: flex;flex-direction: column;z-index: 1;position: relative;background-color: white;}#sk-container-id-1 div.sk-parallel-item:first-child::after {align-self: flex-end;width: 50%;}#sk-container-id-1 div.sk-parallel-item:last-child::after {align-self: flex-start;width: 50%;}#sk-container-id-1 div.sk-parallel-item:only-child::after {width: 0;}#sk-container-id-1 div.sk-dashed-wrapped {border: 1px dashed gray;margin: 0 0.4em 0.5em 0.4em;box-sizing: border-box;padding-bottom: 0.4em;background-color: white;}#sk-container-id-1 div.sk-label label {font-family: monospace;font-weight: bold;display: inline-block;line-height: 1.2em;}#sk-container-id-1 div.sk-label-container {text-align: center;}#sk-container-id-1 div.sk-container {/* jupyter's `normalize.less` sets `[hidden] { display: none; }` but bootstrap.min.css set `[hidden] { display: none !important; }` so we also need the `!important` here to be able to override the default hidden behavior on the sphinx rendered scikit-learn.org. See: https://github.com/scikit-learn/scikit-learn/issues/21755 */display: inline-block !important;position: relative;}#sk-container-id-1 div.sk-text-repr-fallback {display: none;}</style><div id=\"sk-container-id-1\" class=\"sk-top-container\"><div class=\"sk-text-repr-fallback\"><pre>LinearRegression()</pre><b>In a Jupyter environment, please rerun this cell to show the HTML representation or trust the notebook. <br />On GitHub, the HTML representation is unable to render, please try loading this page with nbviewer.org.</b></div><div class=\"sk-container\" hidden><div class=\"sk-item\"><div class=\"sk-estimator sk-toggleable\"><input class=\"sk-toggleable__control sk-hidden--visually\" id=\"sk-estimator-id-1\" type=\"checkbox\" checked><label for=\"sk-estimator-id-1\" class=\"sk-toggleable__label sk-toggleable__label-arrow\">LinearRegression</label><div class=\"sk-toggleable__content\"><pre>LinearRegression()</pre></div></div></div></div></div>"
      ],
      "text/plain": [
       "LinearRegression()"
      ]
     },
     "execution_count": 12,
     "metadata": {},
     "output_type": "execute_result"
    }
   ],
   "source": [
    "lr = LinearRegression()\n",
    "lr.fit(X_train, y_train)"
   ]
  },
  {
   "cell_type": "code",
   "execution_count": 13,
   "id": "abb21223-2ef4-4153-9e79-c8bb735f251a",
   "metadata": {},
   "outputs": [
    {
     "name": "stdout",
     "output_type": "stream",
     "text": [
      "Mean squared error: 87.55\n",
      "R2 score: 1.00\n"
     ]
    }
   ],
   "source": [
    "y_pred = lr.predict(X_test)\n",
    "mse = mean_squared_error(y_test, y_pred)\n",
    "r2 = r2_score(y_test, y_pred)\n",
    "print(f\"Mean squared error: {mse:.2f}\")\n",
    "print(f\"R2 score: {r2:.2f}\")"
   ]
  },
  {
   "cell_type": "code",
   "execution_count": 14,
   "id": "69e9168e-4e70-41e5-9a8c-150cfa5d3135",
   "metadata": {},
   "outputs": [
    {
     "data": {
      "image/png": "[encoded data removed]",
      "text/plain": [
       "<Figure size 640x480 with 1 Axes>"
      ]
     },
     "metadata": {},
     "output_type": "display_data"
    }
   ],
   "source": [
    "plt.scatter(y_test, y_pred)\n",
    "plt.xlabel('Actual values')\n",
    "plt.ylabel('Predicted values')\n",
    "plt.show()"
   ]
  },
  {
   "cell_type": "code",
   "execution_count": 15,
   "id": "c6ef4306-c1a2-4d22-a897-e37df7370783",
   "metadata": {},
   "outputs": [
    {
     "data": {
      "image/png": "[encoded data removed]",
      "text/plain": [
       "<Figure size 640x480 with 1 Axes>"
      ]
     },
     "metadata": {},
     "output_type": "display_data"
    }
   ],
   "source": [
    "plt.plot(y_test, label=\"Actual values\")\n",
    "plt.plot(y_pred, label=\"Predicted values\")\n",
    "plt.legend(loc='upper center')\n",
    "plt.show()"
   ]
  },
  {
   "cell_type": "code",
   "execution_count": 16,
   "id": "74c7b86b-9572-45d9-bfc7-ecc093b54473",
   "metadata": {},
   "outputs": [
    {
     "name": "stdout",
     "output_type": "stream",
     "text": [
      "2023-03-07 : 1678126500.0 387.1\n",
      "If AKPL opens at 387.1 on 2023-03-07 then it should close at 384.8027381520157\n"
     ]
    }
   ],
   "source": [
    "date_string = '2023-03-07'\n",
    "timestamp = ds2timestamp(date_string)\n",
    "open_value = 387.1\n",
    "print(date_string, ':', timestamp, open_value)\n",
    "prediction = lr.predict(np.array([[timestamp, open_value]]))\n",
    "print(f\"If AKPL opens at {open_value} on {date_string} then it should close at\", prediction[0])"
   ]
  },
  {
   "cell_type": "code",
   "execution_count": 19,
   "id": "41fbb6cd-b913-49f1-b612-e08643c205b9",
   "metadata": {},
   "outputs": [
    {
     "name": "stdout",
     "output_type": "stream",
     "text": [
      "2023-03-09 : 1678299300.0 395.3\n",
      "If AKPL opens at 395.3 on 2023-03-09 then it should close at 392.9397183607384\n"
     ]
    }
   ],
   "source": [
    "date_string = '2023-03-09'\n",
    "timestamp = ds2timestamp(date_string)\n",
    "open_value = 395.3\n",
    "print(date_string, ':', timestamp, open_value)\n",
    "prediction = lr.predict(np.array([[timestamp, open_value]]))\n",
    "print(f\"If AKPL opens at {open_value} on {date_string} then it should close at\", prediction[0])"
   ]
  },
  {
   "cell_type": "code",
   "execution_count": null,
   "id": "35079123-4e76-42fd-be4d-df60af66cdc7",
   "metadata": {},
   "outputs": [],
   "source": []
  }
 ],
 "metadata": {
  "kernelspec": {
   "display_name": "Python 3 (ipykernel)",
   "language": "python",
   "name": "python3"
  },
  "language_info": {
   "codemirror_mode": {
    "name": "ipython",
    "version": 3
   },
   "file_extension": ".py",
   "mimetype": "text/x-python",
   "name": "python",
   "nbconvert_exporter": "python",
   "pygments_lexer": "ipython3",
   "version": "3.10.8"
  },
  "toc-autonumbering": false,
  "toc-showmarkdowntxt": false
 },
 "nbformat": 4,
 "nbformat_minor": 5
}
